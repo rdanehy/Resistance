{
 "cells": [
  {
   "cell_type": "code",
   "execution_count": null,
   "metadata": {},
   "outputs": [],
   "source": [
    "#Full normalized paper verison\n",
    "import tellurium as te\n",
    "import numpy as np\n",
    "import matplotlib.pyplot as plt\n",
    "from matplotlib.widgets import Slider\n",
    "import ipywidgets as widgets\n",
    "from ipywidgets import interact, interact_manual, FloatSlider\n",
    "\n",
    "#Model with Population, Imunne System, and Antibiotics normalized\n",
    "#uses the treatment of a daily dose\n",
    "r = te.loada('''\n",
    "#Equations\n",
    "R1: ->s;   bs* s*(1-(s+r))-id*s*b - s*ds*a- s*m*a\n",
    "R2: ->r; (1-c)*bs*r*(1-(s+r)) - id*r*b + s*m*a\n",
    "R3: ->b; k*b*(1-(b/(w*(s+r))))\n",
    "R4: a ->; ui\n",
    "E1: at (a<0): ui =0 , a=0 \n",
    "E2: at (time%x<1): ui = .06, a=5/(100/x) \n",
    "#Parameters\n",
    "A= 0.260674 #Antibiotic concentration\n",
    "S=8.0*10^8 #S population of sensitive bacteria\n",
    "R=1.8*10^8 #R population of Restiance bacteria\n",
    "B=0.571428 #B population of immune cells\n",
    "k=.6  #Immune cells growth rate\n",
    "w= 1\n",
    "bs= .8 #bs = birth rate of sensitive bacteria per day\n",
    "c= .3 #bs(1-c) c= fitness cost (0<c<1)\n",
    "T=1*10^9 #T carryiing capacity\n",
    "id = .3 # id = death rate from immune cells\n",
    "ds = 0.0039  # ds = death of senistive pop to antibiotics Isoniazid\n",
    "ui = .06 #uptake rate of INH\n",
    "di = 5 #daily dose \n",
    "#a= A/(di/ui)\n",
    "a=1\n",
    "s= S/T\n",
    "r= R/T\n",
    "b= (B/(w*T))\n",
    "m= .05\n",
    "x=0\n",
    "''')\n",
    "w_widget = FloatSlider(min=0.005, max=2.01, step=0.05, value=1.0)\n",
    "Lamda_widget = FloatSlider(min=0, max=2.0, step=0.05, value=.3)\n",
    "X_widget = FloatSlider(min=0, Max = 60, step =2.0, value =0)\n",
    "def update_x_range(*args):\n",
    "    w = Lamda_widget.value\n",
    "    Lamda = w_widget.value\n",
    "    X = X_widget.value\n",
    "def printer(w, Lamda, X):\n",
    "    \n",
    "    r.resetAll()\n",
    "    r.x = X\n",
    "    r.w=w\n",
    "    r.id=Lamda\n",
    "    m= r.simulate(1,125,1000)# set new y-coordinates of the plotted points\n",
    "    r.plot(title=\"Full System 1 dose periodically\") # redraw the plot\n",
    "    plt.show()\n",
    "\n",
    "interact(printer,X=X_widget,Lamda=Lamda_widget, w=w_widget);"
   ]
  },
  {
   "cell_type": "code",
   "execution_count": null,
   "metadata": {},
   "outputs": [],
   "source": []
  }
 ],
 "metadata": {
  "kernelspec": {
   "display_name": "Python 3",
   "language": "python",
   "name": "python3"
  },
  "language_info": {
   "codemirror_mode": {
    "name": "ipython",
    "version": 3
   },
   "file_extension": ".py",
   "mimetype": "text/x-python",
   "name": "python",
   "nbconvert_exporter": "python",
   "pygments_lexer": "ipython3",
   "version": "3.6.5"
  }
 },
 "nbformat": 4,
 "nbformat_minor": 2
}
